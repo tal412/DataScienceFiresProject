{
 "cells": [
  {
   "cell_type": "markdown",
   "source": [
    "# 67818 Applied Competitive Lab in Data Science\n",
    "\n",
    "## Final Project\n",
    "\n",
    "### Participants:\n",
    "\n",
    "- **Name:** Matheus de Souza\n",
    "- **Student ID:** 202000000\n",
    "- \n",
    "- **Name:** Matheus de Souza\n",
    "- **Student ID:** 202000000\n",
    "- \n",
    "- **Name:** Matheus de Souza\n",
    "- **Student ID:** 202000000\n",
    "- \n",
    "- **Name:** Matheus de Souza\n",
    "- **Student ID:** 202000000\n",
    "- \n",
    "- **Name:** Matheus de Souza\n",
    "- **Student ID:** 202000000"
   ],
   "metadata": {
    "collapsed": false
   }
  },
  {
   "cell_type": "markdown",
   "source": [
    "#### 1. Data Preparation and Feature Engineering:\n",
    "\n",
    "We will start by defining a function for calculating the distance between two points on the Earth's surface for a given latitude and longitude. We will then use this function to calculate the distance between each fire incident and the nearest nature point, city, and camp.\n",
    "\n",
    "For our original data containing 571000 rows:\n",
    "Calculating for the nature points takes about 10 minutes.\n",
    "Calculating for the camps takes about 5 minutes.\n",
    "Calculating for the cities takes about 5 minutes."
   ],
   "metadata": {
    "collapsed": false
   }
  },
  {
   "cell_type": "code",
   "outputs": [
    {
     "name": "stderr",
     "output_type": "stream",
     "text": [
      "/Users/talbarda/Desktop/FinalProject/.venv/lib/python3.9/site-packages/urllib3/__init__.py:35: NotOpenSSLWarning: urllib3 v2 only supports OpenSSL 1.1.1+, currently the 'ssl' module is compiled with 'LibreSSL 2.8.3'. See: https://github.com/urllib3/urllib3/issues/3020\n",
      "  warnings.warn(\n",
      "Calculating distances for nature:  11%|█         | 60891/571425 [01:02<08:45, 971.47it/s] \n"
     ]
    },
    {
     "ename": "KeyboardInterrupt",
     "evalue": "",
     "output_type": "error",
     "traceback": [
      "\u001B[0;31m---------------------------------------------------------------------------\u001B[0m",
      "\u001B[0;31mKeyboardInterrupt\u001B[0m                         Traceback (most recent call last)",
      "Cell \u001B[0;32mIn[5], line 62\u001B[0m\n\u001B[1;32m     59\u001B[0m camp_gdf \u001B[38;5;241m=\u001B[39m gpd\u001B[38;5;241m.\u001B[39mGeoDataFrame(camp_df, geometry\u001B[38;5;241m=\u001B[39mgpd\u001B[38;5;241m.\u001B[39mpoints_from_xy(camp_df\u001B[38;5;241m.\u001B[39mlon, camp_df\u001B[38;5;241m.\u001B[39mlat), crs\u001B[38;5;241m=\u001B[39m\u001B[38;5;124m\"\u001B[39m\u001B[38;5;124mEPSG:4326\u001B[39m\u001B[38;5;124m\"\u001B[39m)\n\u001B[1;32m     61\u001B[0m \u001B[38;5;66;03m# Calculate distances\u001B[39;00m\n\u001B[0;32m---> 62\u001B[0m data_df[\u001B[38;5;124m'\u001B[39m\u001B[38;5;124mdistance_to_nearest_nature_km\u001B[39m\u001B[38;5;124m'\u001B[39m] \u001B[38;5;241m=\u001B[39m \u001B[43mcalculate_distances_gdf\u001B[49m\u001B[43m(\u001B[49m\u001B[43mdata_gdf\u001B[49m\u001B[43m,\u001B[49m\u001B[43m \u001B[49m\u001B[43mnature_gdf\u001B[49m\u001B[43m,\u001B[49m\u001B[43m \u001B[49m\u001B[38;5;124;43m\"\u001B[39;49m\u001B[38;5;124;43mnature\u001B[39;49m\u001B[38;5;124;43m\"\u001B[39;49m\u001B[43m)\u001B[49m\n\u001B[1;32m     63\u001B[0m data_df[\u001B[38;5;124m'\u001B[39m\u001B[38;5;124mdistance_to_nearest_camp_km\u001B[39m\u001B[38;5;124m'\u001B[39m] \u001B[38;5;241m=\u001B[39m calculate_distances_gdf(data_gdf, camp_gdf, \u001B[38;5;124m\"\u001B[39m\u001B[38;5;124mcamp\u001B[39m\u001B[38;5;124m\"\u001B[39m)\n\u001B[1;32m     64\u001B[0m data_df[\u001B[38;5;124m'\u001B[39m\u001B[38;5;124mdistance_to_nearest_city_km\u001B[39m\u001B[38;5;124m'\u001B[39m] \u001B[38;5;241m=\u001B[39m calculate_distances_gdf(data_gdf, cities_gdf, \u001B[38;5;124m\"\u001B[39m\u001B[38;5;124mcity\u001B[39m\u001B[38;5;124m\"\u001B[39m)\n",
      "Cell \u001B[0;32mIn[5], line 41\u001B[0m, in \u001B[0;36mcalculate_distances_gdf\u001B[0;34m(source_gdf, target_gdf, target_name)\u001B[0m\n\u001B[1;32m     39\u001B[0m target_point \u001B[38;5;241m=\u001B[39m target_row[\u001B[38;5;124m'\u001B[39m\u001B[38;5;124mgeometry\u001B[39m\u001B[38;5;124m'\u001B[39m]\n\u001B[1;32m     40\u001B[0m target_point_coords \u001B[38;5;241m=\u001B[39m (target_point\u001B[38;5;241m.\u001B[39my, target_point\u001B[38;5;241m.\u001B[39mx)\n\u001B[0;32m---> 41\u001B[0m distance \u001B[38;5;241m=\u001B[39m \u001B[43mgeodesic\u001B[49m\u001B[43m(\u001B[49m\u001B[43mpoint_coords\u001B[49m\u001B[43m,\u001B[49m\u001B[43m \u001B[49m\u001B[43mtarget_point_coords\u001B[49m\u001B[43m)\u001B[49m\u001B[38;5;241m.\u001B[39mkilometers\n\u001B[1;32m     42\u001B[0m \u001B[38;5;28;01mif\u001B[39;00m distance \u001B[38;5;241m<\u001B[39m min_distance:\n\u001B[1;32m     43\u001B[0m     min_distance \u001B[38;5;241m=\u001B[39m distance\n",
      "File \u001B[0;32m~/Desktop/FinalProject/.venv/lib/python3.9/site-packages/geopy/distance.py:540\u001B[0m, in \u001B[0;36mgeodesic.__init__\u001B[0;34m(self, *args, **kwargs)\u001B[0m\n\u001B[1;32m    538\u001B[0m \u001B[38;5;28mself\u001B[39m\u001B[38;5;241m.\u001B[39mset_ellipsoid(kwargs\u001B[38;5;241m.\u001B[39mpop(\u001B[38;5;124m'\u001B[39m\u001B[38;5;124mellipsoid\u001B[39m\u001B[38;5;124m'\u001B[39m, \u001B[38;5;124m'\u001B[39m\u001B[38;5;124mWGS-84\u001B[39m\u001B[38;5;124m'\u001B[39m))\n\u001B[1;32m    539\u001B[0m major, minor, f \u001B[38;5;241m=\u001B[39m \u001B[38;5;28mself\u001B[39m\u001B[38;5;241m.\u001B[39mELLIPSOID\n\u001B[0;32m--> 540\u001B[0m \u001B[38;5;28;43msuper\u001B[39;49m\u001B[43m(\u001B[49m\u001B[43m)\u001B[49m\u001B[38;5;241;43m.\u001B[39;49m\u001B[38;5;21;43m__init__\u001B[39;49m\u001B[43m(\u001B[49m\u001B[38;5;241;43m*\u001B[39;49m\u001B[43margs\u001B[49m\u001B[43m,\u001B[49m\u001B[43m \u001B[49m\u001B[38;5;241;43m*\u001B[39;49m\u001B[38;5;241;43m*\u001B[39;49m\u001B[43mkwargs\u001B[49m\u001B[43m)\u001B[49m\n",
      "File \u001B[0;32m~/Desktop/FinalProject/.venv/lib/python3.9/site-packages/geopy/distance.py:276\u001B[0m, in \u001B[0;36mDistance.__init__\u001B[0;34m(self, *args, **kwargs)\u001B[0m\n\u001B[1;32m    274\u001B[0m \u001B[38;5;28;01melif\u001B[39;00m \u001B[38;5;28mlen\u001B[39m(args) \u001B[38;5;241m>\u001B[39m \u001B[38;5;241m1\u001B[39m:\n\u001B[1;32m    275\u001B[0m     \u001B[38;5;28;01mfor\u001B[39;00m a, b \u001B[38;5;129;01min\u001B[39;00m util\u001B[38;5;241m.\u001B[39mpairwise(args):\n\u001B[0;32m--> 276\u001B[0m         kilometers \u001B[38;5;241m+\u001B[39m\u001B[38;5;241m=\u001B[39m \u001B[38;5;28;43mself\u001B[39;49m\u001B[38;5;241;43m.\u001B[39;49m\u001B[43mmeasure\u001B[49m\u001B[43m(\u001B[49m\u001B[43ma\u001B[49m\u001B[43m,\u001B[49m\u001B[43m \u001B[49m\u001B[43mb\u001B[49m\u001B[43m)\u001B[49m\n\u001B[1;32m    278\u001B[0m kilometers \u001B[38;5;241m+\u001B[39m\u001B[38;5;241m=\u001B[39m units\u001B[38;5;241m.\u001B[39mkilometers(\u001B[38;5;241m*\u001B[39m\u001B[38;5;241m*\u001B[39mkwargs)\n\u001B[1;32m    279\u001B[0m \u001B[38;5;28mself\u001B[39m\u001B[38;5;241m.\u001B[39m__kilometers \u001B[38;5;241m=\u001B[39m kilometers\n",
      "File \u001B[0;32m~/Desktop/FinalProject/.venv/lib/python3.9/site-packages/geopy/distance.py:566\u001B[0m, in \u001B[0;36mgeodesic.measure\u001B[0;34m(self, a, b)\u001B[0m\n\u001B[1;32m    561\u001B[0m \u001B[38;5;28;01mif\u001B[39;00m \u001B[38;5;129;01mnot\u001B[39;00m (\u001B[38;5;28misinstance\u001B[39m(\u001B[38;5;28mself\u001B[39m\u001B[38;5;241m.\u001B[39mgeod, Geodesic) \u001B[38;5;129;01mand\u001B[39;00m\n\u001B[1;32m    562\u001B[0m         \u001B[38;5;28mself\u001B[39m\u001B[38;5;241m.\u001B[39mgeod\u001B[38;5;241m.\u001B[39ma \u001B[38;5;241m==\u001B[39m \u001B[38;5;28mself\u001B[39m\u001B[38;5;241m.\u001B[39mELLIPSOID[\u001B[38;5;241m0\u001B[39m] \u001B[38;5;129;01mand\u001B[39;00m\n\u001B[1;32m    563\u001B[0m         \u001B[38;5;28mself\u001B[39m\u001B[38;5;241m.\u001B[39mgeod\u001B[38;5;241m.\u001B[39mf \u001B[38;5;241m==\u001B[39m \u001B[38;5;28mself\u001B[39m\u001B[38;5;241m.\u001B[39mELLIPSOID[\u001B[38;5;241m2\u001B[39m]):\n\u001B[1;32m    564\u001B[0m     \u001B[38;5;28mself\u001B[39m\u001B[38;5;241m.\u001B[39mgeod \u001B[38;5;241m=\u001B[39m Geodesic(\u001B[38;5;28mself\u001B[39m\u001B[38;5;241m.\u001B[39mELLIPSOID[\u001B[38;5;241m0\u001B[39m], \u001B[38;5;28mself\u001B[39m\u001B[38;5;241m.\u001B[39mELLIPSOID[\u001B[38;5;241m2\u001B[39m])\n\u001B[0;32m--> 566\u001B[0m s12 \u001B[38;5;241m=\u001B[39m \u001B[38;5;28;43mself\u001B[39;49m\u001B[38;5;241;43m.\u001B[39;49m\u001B[43mgeod\u001B[49m\u001B[38;5;241;43m.\u001B[39;49m\u001B[43mInverse\u001B[49m\u001B[43m(\u001B[49m\u001B[43mlat1\u001B[49m\u001B[43m,\u001B[49m\u001B[43m \u001B[49m\u001B[43mlon1\u001B[49m\u001B[43m,\u001B[49m\u001B[43m \u001B[49m\u001B[43mlat2\u001B[49m\u001B[43m,\u001B[49m\u001B[43m \u001B[49m\u001B[43mlon2\u001B[49m\u001B[43m,\u001B[49m\n\u001B[1;32m    567\u001B[0m \u001B[43m                        \u001B[49m\u001B[43mGeodesic\u001B[49m\u001B[38;5;241;43m.\u001B[39;49m\u001B[43mDISTANCE\u001B[49m\u001B[43m)\u001B[49m[\u001B[38;5;124m'\u001B[39m\u001B[38;5;124ms12\u001B[39m\u001B[38;5;124m'\u001B[39m]\n\u001B[1;32m    569\u001B[0m \u001B[38;5;28;01mreturn\u001B[39;00m s12\n",
      "File \u001B[0;32m~/Desktop/FinalProject/.venv/lib/python3.9/site-packages/geographiclib/geodesic.py:1030\u001B[0m, in \u001B[0;36mGeodesic.Inverse\u001B[0;34m(self, lat1, lon1, lat2, lon2, outmask)\u001B[0m\n\u001B[1;32m   1012\u001B[0m \u001B[38;5;28;01mdef\u001B[39;00m \u001B[38;5;21mInverse\u001B[39m(\u001B[38;5;28mself\u001B[39m, lat1, lon1, lat2, lon2,\n\u001B[1;32m   1013\u001B[0m             outmask \u001B[38;5;241m=\u001B[39m GeodesicCapability\u001B[38;5;241m.\u001B[39mSTANDARD):\n\u001B[1;32m   1014\u001B[0m \u001B[38;5;250m  \u001B[39m\u001B[38;5;124;03m\"\"\"Solve the inverse geodesic problem\u001B[39;00m\n\u001B[1;32m   1015\u001B[0m \n\u001B[1;32m   1016\u001B[0m \u001B[38;5;124;03m  :param lat1: latitude of the first point in degrees\u001B[39;00m\n\u001B[0;32m   (...)\u001B[0m\n\u001B[1;32m   1027\u001B[0m \n\u001B[1;32m   1028\u001B[0m \u001B[38;5;124;03m  \"\"\"\u001B[39;00m\n\u001B[0;32m-> 1030\u001B[0m   a12, s12, salp1,calp1, salp2,calp2, m12, M12, M21, S12 \u001B[38;5;241m=\u001B[39m \u001B[38;5;28;43mself\u001B[39;49m\u001B[38;5;241;43m.\u001B[39;49m\u001B[43m_GenInverse\u001B[49m\u001B[43m(\u001B[49m\n\u001B[1;32m   1031\u001B[0m \u001B[43m    \u001B[49m\u001B[43mlat1\u001B[49m\u001B[43m,\u001B[49m\u001B[43m \u001B[49m\u001B[43mlon1\u001B[49m\u001B[43m,\u001B[49m\u001B[43m \u001B[49m\u001B[43mlat2\u001B[49m\u001B[43m,\u001B[49m\u001B[43m \u001B[49m\u001B[43mlon2\u001B[49m\u001B[43m,\u001B[49m\u001B[43m \u001B[49m\u001B[43moutmask\u001B[49m\u001B[43m)\u001B[49m\n\u001B[1;32m   1032\u001B[0m   outmask \u001B[38;5;241m&\u001B[39m\u001B[38;5;241m=\u001B[39m Geodesic\u001B[38;5;241m.\u001B[39mOUT_MASK\n\u001B[1;32m   1033\u001B[0m   \u001B[38;5;28;01mif\u001B[39;00m outmask \u001B[38;5;241m&\u001B[39m Geodesic\u001B[38;5;241m.\u001B[39mLONG_UNROLL:\n",
      "File \u001B[0;32m~/Desktop/FinalProject/.venv/lib/python3.9/site-packages/geographiclib/geodesic.py:876\u001B[0m, in \u001B[0;36mGeodesic._GenInverse\u001B[0;34m(self, lat1, lon1, lat2, lon2, outmask)\u001B[0m\n\u001B[1;32m    870\u001B[0m salp1b \u001B[38;5;241m=\u001B[39m Geodesic\u001B[38;5;241m.\u001B[39mtiny_; calp1b \u001B[38;5;241m=\u001B[39m \u001B[38;5;241m-\u001B[39m\u001B[38;5;241m1.0\u001B[39m\n\u001B[1;32m    872\u001B[0m \u001B[38;5;28;01mwhile\u001B[39;00m numit \u001B[38;5;241m<\u001B[39m Geodesic\u001B[38;5;241m.\u001B[39mmaxit2_:\n\u001B[1;32m    873\u001B[0m   \u001B[38;5;66;03m# the WGS84 test set: mean = 1.47, sd = 1.25, max = 16\u001B[39;00m\n\u001B[1;32m    874\u001B[0m   \u001B[38;5;66;03m# WGS84 and random input: mean = 2.85, sd = 0.60\u001B[39;00m\n\u001B[1;32m    875\u001B[0m   (v, salp2, calp2, sig12, ssig1, csig1, ssig2, csig2,\n\u001B[0;32m--> 876\u001B[0m    eps, domg12, dv) \u001B[38;5;241m=\u001B[39m \u001B[38;5;28;43mself\u001B[39;49m\u001B[38;5;241;43m.\u001B[39;49m\u001B[43m_Lambda12\u001B[49m\u001B[43m(\u001B[49m\n\u001B[1;32m    877\u001B[0m \u001B[43m     \u001B[49m\u001B[43msbet1\u001B[49m\u001B[43m,\u001B[49m\u001B[43m \u001B[49m\u001B[43mcbet1\u001B[49m\u001B[43m,\u001B[49m\u001B[43m \u001B[49m\u001B[43mdn1\u001B[49m\u001B[43m,\u001B[49m\u001B[43m \u001B[49m\u001B[43msbet2\u001B[49m\u001B[43m,\u001B[49m\u001B[43m \u001B[49m\u001B[43mcbet2\u001B[49m\u001B[43m,\u001B[49m\u001B[43m \u001B[49m\u001B[43mdn2\u001B[49m\u001B[43m,\u001B[49m\n\u001B[1;32m    878\u001B[0m \u001B[43m     \u001B[49m\u001B[43msalp1\u001B[49m\u001B[43m,\u001B[49m\u001B[43m \u001B[49m\u001B[43mcalp1\u001B[49m\u001B[43m,\u001B[49m\u001B[43m \u001B[49m\u001B[43mslam12\u001B[49m\u001B[43m,\u001B[49m\u001B[43m \u001B[49m\u001B[43mclam12\u001B[49m\u001B[43m,\u001B[49m\u001B[43m \u001B[49m\u001B[43mnumit\u001B[49m\u001B[43m \u001B[49m\u001B[38;5;241;43m<\u001B[39;49m\u001B[43m \u001B[49m\u001B[43mGeodesic\u001B[49m\u001B[38;5;241;43m.\u001B[39;49m\u001B[43mmaxit1_\u001B[49m\u001B[43m,\u001B[49m\n\u001B[1;32m    879\u001B[0m \u001B[43m     \u001B[49m\u001B[43mC1a\u001B[49m\u001B[43m,\u001B[49m\u001B[43m \u001B[49m\u001B[43mC2a\u001B[49m\u001B[43m,\u001B[49m\u001B[43m \u001B[49m\u001B[43mC3a\u001B[49m\u001B[43m)\u001B[49m\n\u001B[1;32m    880\u001B[0m   \u001B[38;5;66;03m# Reversed test to allow escape with NaNs\u001B[39;00m\n\u001B[1;32m    881\u001B[0m   \u001B[38;5;28;01mif\u001B[39;00m tripb \u001B[38;5;129;01mor\u001B[39;00m \u001B[38;5;129;01mnot\u001B[39;00m (\u001B[38;5;28mabs\u001B[39m(v) \u001B[38;5;241m>\u001B[39m\u001B[38;5;241m=\u001B[39m (\u001B[38;5;241m8\u001B[39m \u001B[38;5;28;01mif\u001B[39;00m tripn \u001B[38;5;28;01melse\u001B[39;00m \u001B[38;5;241m1\u001B[39m) \u001B[38;5;241m*\u001B[39m Geodesic\u001B[38;5;241m.\u001B[39mtol0_):\n",
      "File \u001B[0;32m~/Desktop/FinalProject/.venv/lib/python3.9/site-packages/geographiclib/geodesic.py:690\u001B[0m, in \u001B[0;36mGeodesic._Lambda12\u001B[0;34m(self, sbet1, cbet1, dn1, sbet2, cbet2, dn2, salp1, calp1, slam120, clam120, diffp, C1a, C2a, C3a)\u001B[0m\n\u001B[1;32m    688\u001B[0m     dlam12 \u001B[38;5;241m=\u001B[39m \u001B[38;5;241m-\u001B[39m \u001B[38;5;241m2\u001B[39m \u001B[38;5;241m*\u001B[39m \u001B[38;5;28mself\u001B[39m\u001B[38;5;241m.\u001B[39m_f1 \u001B[38;5;241m*\u001B[39m dn1 \u001B[38;5;241m/\u001B[39m sbet1\n\u001B[1;32m    689\u001B[0m   \u001B[38;5;28;01melse\u001B[39;00m:\n\u001B[0;32m--> 690\u001B[0m     dummy, dlam12, dummy, dummy, dummy \u001B[38;5;241m=\u001B[39m \u001B[38;5;28;43mself\u001B[39;49m\u001B[38;5;241;43m.\u001B[39;49m\u001B[43m_Lengths\u001B[49m\u001B[43m(\u001B[49m\n\u001B[1;32m    691\u001B[0m \u001B[43m      \u001B[49m\u001B[43meps\u001B[49m\u001B[43m,\u001B[49m\u001B[43m \u001B[49m\u001B[43msig12\u001B[49m\u001B[43m,\u001B[49m\u001B[43m \u001B[49m\u001B[43mssig1\u001B[49m\u001B[43m,\u001B[49m\u001B[43m \u001B[49m\u001B[43mcsig1\u001B[49m\u001B[43m,\u001B[49m\u001B[43m \u001B[49m\u001B[43mdn1\u001B[49m\u001B[43m,\u001B[49m\u001B[43m \u001B[49m\u001B[43mssig2\u001B[49m\u001B[43m,\u001B[49m\u001B[43m \u001B[49m\u001B[43mcsig2\u001B[49m\u001B[43m,\u001B[49m\u001B[43m \u001B[49m\u001B[43mdn2\u001B[49m\u001B[43m,\u001B[49m\u001B[43m \u001B[49m\u001B[43mcbet1\u001B[49m\u001B[43m,\u001B[49m\u001B[43m \u001B[49m\u001B[43mcbet2\u001B[49m\u001B[43m,\u001B[49m\n\u001B[1;32m    692\u001B[0m \u001B[43m      \u001B[49m\u001B[43mGeodesic\u001B[49m\u001B[38;5;241;43m.\u001B[39;49m\u001B[43mREDUCEDLENGTH\u001B[49m\u001B[43m,\u001B[49m\u001B[43m \u001B[49m\u001B[43mC1a\u001B[49m\u001B[43m,\u001B[49m\u001B[43m \u001B[49m\u001B[43mC2a\u001B[49m\u001B[43m)\u001B[49m\n\u001B[1;32m    693\u001B[0m     dlam12 \u001B[38;5;241m*\u001B[39m\u001B[38;5;241m=\u001B[39m \u001B[38;5;28mself\u001B[39m\u001B[38;5;241m.\u001B[39m_f1 \u001B[38;5;241m/\u001B[39m (calp2 \u001B[38;5;241m*\u001B[39m cbet2)\n\u001B[1;32m    694\u001B[0m \u001B[38;5;28;01melse\u001B[39;00m:\n",
      "File \u001B[0;32m~/Desktop/FinalProject/.venv/lib/python3.9/site-packages/geographiclib/geodesic.py:447\u001B[0m, in \u001B[0;36mGeodesic._Lengths\u001B[0;34m(self, eps, sig12, ssig1, csig1, dn1, ssig2, csig2, dn2, cbet1, cbet2, outmask, C1a, C2a)\u001B[0m\n\u001B[1;32m    444\u001B[0m \u001B[38;5;28;01mif\u001B[39;00m outmask \u001B[38;5;241m&\u001B[39m (Geodesic\u001B[38;5;241m.\u001B[39mDISTANCE \u001B[38;5;241m|\u001B[39m Geodesic\u001B[38;5;241m.\u001B[39mREDUCEDLENGTH \u001B[38;5;241m|\u001B[39m\n\u001B[1;32m    445\u001B[0m               Geodesic\u001B[38;5;241m.\u001B[39mGEODESICSCALE):\n\u001B[1;32m    446\u001B[0m   A1 \u001B[38;5;241m=\u001B[39m Geodesic\u001B[38;5;241m.\u001B[39m_A1m1f(eps)\n\u001B[0;32m--> 447\u001B[0m   \u001B[43mGeodesic\u001B[49m\u001B[38;5;241;43m.\u001B[39;49m\u001B[43m_C1f\u001B[49m\u001B[43m(\u001B[49m\u001B[43meps\u001B[49m\u001B[43m,\u001B[49m\u001B[43m \u001B[49m\u001B[43mC1a\u001B[49m\u001B[43m)\u001B[49m\n\u001B[1;32m    448\u001B[0m   \u001B[38;5;28;01mif\u001B[39;00m outmask \u001B[38;5;241m&\u001B[39m (Geodesic\u001B[38;5;241m.\u001B[39mREDUCEDLENGTH \u001B[38;5;241m|\u001B[39m Geodesic\u001B[38;5;241m.\u001B[39mGEODESICSCALE):\n\u001B[1;32m    449\u001B[0m     A2 \u001B[38;5;241m=\u001B[39m Geodesic\u001B[38;5;241m.\u001B[39m_A2m1f(eps)\n",
      "File \u001B[0;32m~/Desktop/FinalProject/.venv/lib/python3.9/site-packages/geographiclib/geodesic.py:221\u001B[0m, in \u001B[0;36mGeodesic._C1f\u001B[0;34m(eps, c)\u001B[0m\n\u001B[1;32m    219\u001B[0m \u001B[38;5;28;01mfor\u001B[39;00m l \u001B[38;5;129;01min\u001B[39;00m \u001B[38;5;28mrange\u001B[39m(\u001B[38;5;241m1\u001B[39m, Geodesic\u001B[38;5;241m.\u001B[39mnC1_ \u001B[38;5;241m+\u001B[39m \u001B[38;5;241m1\u001B[39m): \u001B[38;5;66;03m# l is index of C1p[l]\u001B[39;00m\n\u001B[1;32m    220\u001B[0m   m \u001B[38;5;241m=\u001B[39m (Geodesic\u001B[38;5;241m.\u001B[39mnC1_ \u001B[38;5;241m-\u001B[39m l) \u001B[38;5;241m/\u001B[39m\u001B[38;5;241m/\u001B[39m \u001B[38;5;241m2\u001B[39m        \u001B[38;5;66;03m# order of polynomial in eps^2\u001B[39;00m\n\u001B[0;32m--> 221\u001B[0m   c[l] \u001B[38;5;241m=\u001B[39m d \u001B[38;5;241m*\u001B[39m \u001B[43mMath\u001B[49m\u001B[38;5;241;43m.\u001B[39;49m\u001B[43mpolyval\u001B[49m\u001B[43m(\u001B[49m\u001B[43mm\u001B[49m\u001B[43m,\u001B[49m\u001B[43m \u001B[49m\u001B[43mcoeff\u001B[49m\u001B[43m,\u001B[49m\u001B[43m \u001B[49m\u001B[43mo\u001B[49m\u001B[43m,\u001B[49m\u001B[43m \u001B[49m\u001B[43meps2\u001B[49m\u001B[43m)\u001B[49m \u001B[38;5;241m/\u001B[39m coeff[o \u001B[38;5;241m+\u001B[39m m \u001B[38;5;241m+\u001B[39m \u001B[38;5;241m1\u001B[39m]\n\u001B[1;32m    222\u001B[0m   o \u001B[38;5;241m+\u001B[39m\u001B[38;5;241m=\u001B[39m m \u001B[38;5;241m+\u001B[39m \u001B[38;5;241m2\u001B[39m\n\u001B[1;32m    223\u001B[0m   d \u001B[38;5;241m*\u001B[39m\u001B[38;5;241m=\u001B[39m eps\n",
      "File \u001B[0;32m~/Desktop/FinalProject/.venv/lib/python3.9/site-packages/geographiclib/geomath.py:70\u001B[0m, in \u001B[0;36mMath.polyval\u001B[0;34m(N, p, s, x)\u001B[0m\n\u001B[1;32m     68\u001B[0m \u001B[38;5;28;01mwhile\u001B[39;00m N \u001B[38;5;241m>\u001B[39m \u001B[38;5;241m0\u001B[39m:\n\u001B[1;32m     69\u001B[0m   N \u001B[38;5;241m-\u001B[39m\u001B[38;5;241m=\u001B[39m \u001B[38;5;241m1\u001B[39m; s \u001B[38;5;241m+\u001B[39m\u001B[38;5;241m=\u001B[39m \u001B[38;5;241m1\u001B[39m\n\u001B[0;32m---> 70\u001B[0m   y \u001B[38;5;241m=\u001B[39m \u001B[43my\u001B[49m\u001B[43m \u001B[49m\u001B[38;5;241;43m*\u001B[39;49m\u001B[43m \u001B[49m\u001B[43mx\u001B[49m\u001B[43m \u001B[49m\u001B[38;5;241;43m+\u001B[39;49m\u001B[43m \u001B[49m\u001B[43mp\u001B[49m\u001B[43m[\u001B[49m\u001B[43ms\u001B[49m\u001B[43m]\u001B[49m\n\u001B[1;32m     71\u001B[0m \u001B[38;5;28;01mreturn\u001B[39;00m y\n",
      "\u001B[0;31mKeyboardInterrupt\u001B[0m: "
     ]
    }
   ],
   "source": [
    "from tqdm import tqdm\n",
    "import pandas as pd\n",
    "import geopandas as gpd\n",
    "from geopy.distance import geodesic\n",
    "import numpy as np\n",
    "\n",
    "\n",
    "def calculate_distances_gdf(source_gdf, target_gdf, target_name):\n",
    "    # Ensure the GeoDataFrames use WGS 84 CRS\n",
    "    source_gdf.to_crs(epsg=4326, inplace=True)\n",
    "    target_gdf.to_crs(epsg=4326, inplace=True)\n",
    "\n",
    "    # Spatial index for target points\n",
    "    target_sindex = target_gdf.sindex\n",
    "\n",
    "    distances_km = []\n",
    "    \n",
    "    \n",
    "    for idx, row in tqdm(source_gdf.iterrows(), total=source_gdf.shape[0], desc=\"Calculating distances for \"+target_name):\n",
    "        point = row['geometry']\n",
    "        \n",
    "        \n",
    "        for buffer_deg in np.linspace(0.1, 30, num=300):\n",
    "            bounds = point.buffer(buffer_deg).bounds\n",
    "            possible_matches_index = list(target_sindex.intersection(bounds))\n",
    "            possible_matches = target_gdf.iloc[possible_matches_index]\n",
    "            if not possible_matches.empty:\n",
    "                break\n",
    "        else:\n",
    "            print(\"Calculating all possibilities for index \", idx)\n",
    "            print(\"Target:\", target_name)\n",
    "            print(\"Point:\", point)\n",
    "            possible_matches = target_gdf\n",
    "\n",
    "        # Calculate geodesic distances to the possible matches\n",
    "        min_distance = float('inf')\n",
    "        point_coords = (point.y, point.x)\n",
    "        for _, target_row in possible_matches.iterrows():\n",
    "            target_point = target_row['geometry']\n",
    "            target_point_coords = (target_point.y, target_point.x)\n",
    "            distance = geodesic(point_coords, target_point_coords).kilometers\n",
    "            if distance < min_distance:\n",
    "                min_distance = distance\n",
    "\n",
    "        distances_km.append(min_distance)\n",
    "\n",
    "    return distances_km\n",
    "\n",
    "# Load data from CSV files\n",
    "data_df = pd.read_csv('data.csv')\n",
    "nature_df = pd.read_csv('NaturePoints.csv')\n",
    "cities_df = pd.read_csv('counties_cities.csv')\n",
    "camp_df = pd.read_csv('camp.csv')\n",
    "\n",
    "# Convert DataFrames to GeoDataFrames with WGS 84 CRS\n",
    "data_gdf = gpd.GeoDataFrame(data_df, geometry=gpd.points_from_xy(data_df.LONGITUDE, data_df.LATITUDE), crs=\"EPSG:4326\")\n",
    "nature_gdf = gpd.GeoDataFrame(nature_df, geometry=gpd.points_from_xy(nature_df.Longitude, nature_df.Latitude), crs=\"EPSG:4326\")\n",
    "cities_gdf = gpd.GeoDataFrame(cities_df, geometry=gpd.points_from_xy(cities_df.lng, cities_df.lat), crs=\"EPSG:4326\")\n",
    "camp_gdf = gpd.GeoDataFrame(camp_df, geometry=gpd.points_from_xy(camp_df.lon, camp_df.lat), crs=\"EPSG:4326\")\n",
    "\n",
    "# Calculate distances\n",
    "data_df['distance_to_nearest_nature_km'] = calculate_distances_gdf(data_gdf, nature_gdf, \"nature\")\n",
    "data_df['distance_to_nearest_camp_km'] = calculate_distances_gdf(data_gdf, camp_gdf, \"camp\")\n",
    "data_df['distance_to_nearest_city_km'] = calculate_distances_gdf(data_gdf, cities_gdf, \"city\")\n",
    "\n",
    "data_df.to_csv('data_with_distances.csv', index=False)"
   ],
   "metadata": {
    "collapsed": false,
    "ExecuteTime": {
     "end_time": "2024-02-14T14:56:03.590172Z",
     "start_time": "2024-02-14T14:54:55.118587Z"
    }
   },
   "execution_count": 5
  },
  {
   "cell_type": "markdown",
   "source": [
    "Now..."
   ],
   "metadata": {
    "collapsed": false
   }
  },
  {
   "cell_type": "code",
   "outputs": [
    {
     "name": "stdout",
     "output_type": "stream",
     "text": [
      "Average distances for Miscellaneous:\n",
      "  Nature: 29.79 km\n",
      "  Camp: 16.78 km\n",
      "  City: 6.43 km\n",
      "Average distances for Arson:\n",
      "  Nature: 26.06 km\n",
      "  Camp: 18.05 km\n",
      "  City: 6.69 km\n",
      "Average distances for Debris Burning:\n",
      "  Nature: 29.36 km\n",
      "  Camp: 18.74 km\n",
      "  City: 6.60 km\n",
      "Average distances for Smoking:\n",
      "  Nature: 27.84 km\n",
      "  Camp: 17.35 km\n",
      "  City: 6.55 km\n",
      "Average distances for Campfire:\n",
      "  Nature: 18.66 km\n",
      "  Camp: 12.47 km\n",
      "  City: 9.82 km\n",
      "Average distances for Equipment Use:\n",
      "  Nature: 29.73 km\n",
      "  Camp: 16.88 km\n",
      "  City: 7.27 km\n",
      "Average distances for Powerline:\n",
      "  Nature: 44.64 km\n",
      "  Camp: 16.58 km\n",
      "  City: 7.33 km\n",
      "Average distances for Lightning:\n",
      "  Nature: 19.43 km\n",
      "  Camp: 19.34 km\n",
      "  City: 16.21 km\n",
      "Average distances for Railroad:\n",
      "  Nature: 27.27 km\n",
      "  Camp: 17.65 km\n",
      "  City: 6.38 km\n",
      "Average distances for Children:\n",
      "  Nature: 26.48 km\n",
      "  Camp: 19.20 km\n",
      "  City: 4.50 km\n",
      "Average distances for Fireworks:\n",
      "  Nature: 26.48 km\n",
      "  Camp: 20.01 km\n",
      "  City: 4.75 km\n",
      "Average distances for Structure:\n",
      "  Nature: 34.12 km\n",
      "  Camp: 23.18 km\n",
      "  City: 6.40 km\n",
      "Average distance from the nearest city for each FIRE_SIZE_CLASS:\n",
      "FIRE_SIZE_CLASS\n",
      "A     8.817105\n",
      "B     7.391654\n",
      "C     8.748068\n",
      "D    11.392587\n",
      "E    14.870614\n",
      "F    18.453070\n",
      "G    26.816834\n",
      "Name: distance_to_nearest_city_km, dtype: float64\n"
     ]
    }
   ],
   "source": [
    "import pandas as pd\n",
    "\n",
    "# Load the dataset\n",
    "df = pd.read_csv(\"data_with_distances.csv\")\n",
    "\n",
    "# Get unique values in the STAT_CAUSE_DESCR column\n",
    "unique_causes = df['STAT_CAUSE_DESCR'].unique()\n",
    "\n",
    "for cause in unique_causes:\n",
    "    # Filter the dataframe for the current cause\n",
    "    cause_df = df[df['STAT_CAUSE_DESCR'] == cause]\n",
    "\n",
    "    # Calculate the average distances\n",
    "    avg_nature_distance = cause_df['distance_to_nearest_nature_km'].mean()\n",
    "    avg_camp_distance = cause_df['distance_to_nearest_camp_km'].mean()\n",
    "    avg_city_distance = cause_df['distance_to_nearest_city_km'].mean()\n",
    "\n",
    "    # Print the averages for the current cause\n",
    "    print(f\"Average distances for {cause}:\")\n",
    "    print(f\"  Nature: {avg_nature_distance:.2f} km\")\n",
    "    print(f\"  Camp: {avg_camp_distance:.2f} km\")\n",
    "    print(f\"  City: {avg_city_distance:.2f} km\")\n",
    "    \n",
    "import pandas as pd\n",
    "\n",
    "# Load the dataset\n",
    "df = pd.read_csv(\"data_with_distances.csv\")\n",
    "\n",
    "# Group the data by FIRE_SIZE_CLASS and calculate the mean for City_Distance_KM within each group\n",
    "avg_city_distance_by_fire_size = df.groupby('FIRE_SIZE_CLASS')['distance_to_nearest_city_km'].mean()\n",
    "\n",
    "print(\"Average distance from the nearest city for each FIRE_SIZE_CLASS:\")\n",
    "print(avg_city_distance_by_fire_size)"
   ],
   "metadata": {
    "collapsed": false,
    "ExecuteTime": {
     "end_time": "2024-02-14T10:24:40.374616Z",
     "start_time": "2024-02-14T10:24:33.812807Z"
    }
   },
   "execution_count": 4
  }
 ],
 "metadata": {
  "kernelspec": {
   "display_name": "Python 3",
   "language": "python",
   "name": "python3"
  },
  "language_info": {
   "codemirror_mode": {
    "name": "ipython",
    "version": 2
   },
   "file_extension": ".py",
   "mimetype": "text/x-python",
   "name": "python",
   "nbconvert_exporter": "python",
   "pygments_lexer": "ipython2",
   "version": "2.7.6"
  }
 },
 "nbformat": 4,
 "nbformat_minor": 0
}
