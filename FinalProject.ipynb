{
 "cells": [
  {
   "cell_type": "markdown",
   "source": [
    "# 67818 Applied Competitive Lab in Data Science\n",
    "\n",
    "## Final Project\n",
    "\n",
    "### Participants:\n",
    "\n",
    "- **Name:** Dan Badur\n",
    "- **Student ID:** 209019256\n",
    "- \n",
    "- **Name:** Tzur Breen\n",
    "- **Student ID:** 209354919\n",
    "- \n",
    "- **Name:** Shir Elbilia\n",
    "- **Student ID:** 208621102\n",
    "- \n",
    "- **Name:** Eliya Hasson\n",
    "- **Student ID:** 208845032\n",
    "- \n",
    "- **Name:** Tal Barda\n",
    "- **Student ID:** 208729210"
   ],
   "metadata": {
    "collapsed": false
   }
  },
  {
   "cell_type": "markdown",
   "source": [
    "#### 1. Data Preparation and Feature Engineering:\n",
    "\n",
    "We will start by defining a function for calculating the distance between each point in our database and a set of polygons in a wanted shapefile.\n",
    "The function is set to run on multiple cors for better performance. \n",
    "\n",
    "For our original data containing 571000 rows for an 8 core CPU (the code utilizes 0.75 of the cores):\n",
    "Reading the shapefiles takes about 5 minutes.\n",
    "Calculating for the nature polygons takes about 3 minutes.\n",
    "Calculating for the structure polygons takes about ??? minutes.\n",
    "For the others it's about 30 seconds to 1 minute each."
   ],
   "metadata": {
    "collapsed": false
   }
  },
  {
   "cell_type": "code",
   "outputs": [
    {
     "name": "stderr",
     "output_type": "stream",
     "text": [
      "/Users/talbarda/Desktop/FinalProject/.venv/lib/python3.9/site-packages/numpy/core/fromnumeric.py:59: FutureWarning: 'GeoDataFrame.swapaxes' is deprecated and will be removed in a future version. Please use 'GeoDataFrame.transpose' instead.\n",
      "  return bound(*args, **kwds)\n",
      "/Users/talbarda/Desktop/FinalProject/.venv/lib/python3.9/site-packages/numpy/core/fromnumeric.py:59: FutureWarning: 'GeoDataFrame.swapaxes' is deprecated and will be removed in a future version. Please use 'GeoDataFrame.transpose' instead.\n",
      "  return bound(*args, **kwds)\n",
      "/Users/talbarda/Desktop/FinalProject/.venv/lib/python3.9/site-packages/numpy/core/fromnumeric.py:59: FutureWarning: 'GeoDataFrame.swapaxes' is deprecated and will be removed in a future version. Please use 'GeoDataFrame.transpose' instead.\n",
      "  return bound(*args, **kwds)\n",
      "/Users/talbarda/Desktop/FinalProject/.venv/lib/python3.9/site-packages/numpy/core/fromnumeric.py:59: FutureWarning: 'GeoDataFrame.swapaxes' is deprecated and will be removed in a future version. Please use 'GeoDataFrame.transpose' instead.\n",
      "  return bound(*args, **kwds)\n",
      "/Users/talbarda/Desktop/FinalProject/.venv/lib/python3.9/site-packages/numpy/core/fromnumeric.py:59: FutureWarning: 'GeoDataFrame.swapaxes' is deprecated and will be removed in a future version. Please use 'GeoDataFrame.transpose' instead.\n",
      "  return bound(*args, **kwds)\n",
      "/Users/talbarda/Desktop/FinalProject/.venv/lib/python3.9/site-packages/numpy/core/fromnumeric.py:59: FutureWarning: 'GeoDataFrame.swapaxes' is deprecated and will be removed in a future version. Please use 'GeoDataFrame.transpose' instead.\n",
      "  return bound(*args, **kwds)\n",
      "/Users/talbarda/Desktop/FinalProject/.venv/lib/python3.9/site-packages/numpy/core/fromnumeric.py:59: FutureWarning: 'GeoDataFrame.swapaxes' is deprecated and will be removed in a future version. Please use 'GeoDataFrame.transpose' instead.\n",
      "  return bound(*args, **kwds)\n",
      "/Users/talbarda/Desktop/FinalProject/.venv/lib/python3.9/site-packages/numpy/core/fromnumeric.py:59: FutureWarning: 'GeoDataFrame.swapaxes' is deprecated and will be removed in a future version. Please use 'GeoDataFrame.transpose' instead.\n",
      "  return bound(*args, **kwds)\n",
      "/Users/talbarda/Desktop/FinalProject/.venv/lib/python3.9/site-packages/numpy/core/fromnumeric.py:59: FutureWarning: 'GeoDataFrame.swapaxes' is deprecated and will be removed in a future version. Please use 'GeoDataFrame.transpose' instead.\n",
      "  return bound(*args, **kwds)\n",
      "/Users/talbarda/Desktop/FinalProject/.venv/lib/python3.9/site-packages/numpy/core/fromnumeric.py:59: FutureWarning: 'GeoDataFrame.swapaxes' is deprecated and will be removed in a future version. Please use 'GeoDataFrame.transpose' instead.\n",
      "  return bound(*args, **kwds)\n",
      "/Users/talbarda/Desktop/FinalProject/.venv/lib/python3.9/site-packages/numpy/core/fromnumeric.py:59: FutureWarning: 'GeoDataFrame.swapaxes' is deprecated and will be removed in a future version. Please use 'GeoDataFrame.transpose' instead.\n",
      "  return bound(*args, **kwds)\n",
      "/Users/talbarda/Desktop/FinalProject/.venv/lib/python3.9/site-packages/numpy/core/fromnumeric.py:59: FutureWarning: 'GeoDataFrame.swapaxes' is deprecated and will be removed in a future version. Please use 'GeoDataFrame.transpose' instead.\n",
      "  return bound(*args, **kwds)\n",
      "/Users/talbarda/Desktop/FinalProject/.venv/lib/python3.9/site-packages/numpy/core/fromnumeric.py:59: FutureWarning: 'GeoDataFrame.swapaxes' is deprecated and will be removed in a future version. Please use 'GeoDataFrame.transpose' instead.\n",
      "  return bound(*args, **kwds)\n",
      "/Users/talbarda/Desktop/FinalProject/.venv/lib/python3.9/site-packages/numpy/core/fromnumeric.py:59: FutureWarning: 'GeoDataFrame.swapaxes' is deprecated and will be removed in a future version. Please use 'GeoDataFrame.transpose' instead.\n",
      "  return bound(*args, **kwds)\n",
      "/Users/talbarda/Desktop/FinalProject/.venv/lib/python3.9/site-packages/numpy/core/fromnumeric.py:59: FutureWarning: 'GeoDataFrame.swapaxes' is deprecated and will be removed in a future version. Please use 'GeoDataFrame.transpose' instead.\n",
      "  return bound(*args, **kwds)\n",
      "/Users/talbarda/Desktop/FinalProject/.venv/lib/python3.9/site-packages/numpy/core/fromnumeric.py:59: FutureWarning: 'GeoDataFrame.swapaxes' is deprecated and will be removed in a future version. Please use 'GeoDataFrame.transpose' instead.\n",
      "  return bound(*args, **kwds)\n",
      "/Users/talbarda/Desktop/FinalProject/.venv/lib/python3.9/site-packages/numpy/core/fromnumeric.py:59: FutureWarning: 'GeoDataFrame.swapaxes' is deprecated and will be removed in a future version. Please use 'GeoDataFrame.transpose' instead.\n",
      "  return bound(*args, **kwds)\n",
      "/Users/talbarda/Desktop/FinalProject/.venv/lib/python3.9/site-packages/numpy/core/fromnumeric.py:59: FutureWarning: 'GeoDataFrame.swapaxes' is deprecated and will be removed in a future version. Please use 'GeoDataFrame.transpose' instead.\n",
      "  return bound(*args, **kwds)\n",
      "/Users/talbarda/Desktop/FinalProject/.venv/lib/python3.9/site-packages/numpy/core/fromnumeric.py:59: FutureWarning: 'GeoDataFrame.swapaxes' is deprecated and will be removed in a future version. Please use 'GeoDataFrame.transpose' instead.\n",
      "  return bound(*args, **kwds)\n",
      "/Users/talbarda/Desktop/FinalProject/.venv/lib/python3.9/site-packages/numpy/core/fromnumeric.py:59: FutureWarning: 'GeoDataFrame.swapaxes' is deprecated and will be removed in a future version. Please use 'GeoDataFrame.transpose' instead.\n",
      "  return bound(*args, **kwds)\n",
      "/Users/talbarda/Desktop/FinalProject/.venv/lib/python3.9/site-packages/numpy/core/fromnumeric.py:59: FutureWarning: 'GeoDataFrame.swapaxes' is deprecated and will be removed in a future version. Please use 'GeoDataFrame.transpose' instead.\n",
      "  return bound(*args, **kwds)\n",
      "/Users/talbarda/Desktop/FinalProject/.venv/lib/python3.9/site-packages/numpy/core/fromnumeric.py:59: FutureWarning: 'GeoDataFrame.swapaxes' is deprecated and will be removed in a future version. Please use 'GeoDataFrame.transpose' instead.\n",
      "  return bound(*args, **kwds)\n",
      "/Users/talbarda/Desktop/FinalProject/.venv/lib/python3.9/site-packages/numpy/core/fromnumeric.py:59: FutureWarning: 'GeoDataFrame.swapaxes' is deprecated and will be removed in a future version. Please use 'GeoDataFrame.transpose' instead.\n",
      "  return bound(*args, **kwds)\n",
      "/Users/talbarda/Desktop/FinalProject/.venv/lib/python3.9/site-packages/numpy/core/fromnumeric.py:59: FutureWarning: 'GeoDataFrame.swapaxes' is deprecated and will be removed in a future version. Please use 'GeoDataFrame.transpose' instead.\n",
      "  return bound(*args, **kwds)\n",
      "/Users/talbarda/Desktop/FinalProject/.venv/lib/python3.9/site-packages/numpy/core/fromnumeric.py:59: FutureWarning: 'GeoDataFrame.swapaxes' is deprecated and will be removed in a future version. Please use 'GeoDataFrame.transpose' instead.\n",
      "  return bound(*args, **kwds)\n",
      "Processing chunks for MobileHomePark: 100%|██████████| 24/24 [00:16<00:00,  1.42it/s]\n"
     ]
    }
   ],
   "source": [
    "from tqdm import tqdm\n",
    "import geopandas as gpd\n",
    "import pandas as pd\n",
    "import numpy as np\n",
    "import concurrent.futures\n",
    "import math\n",
    "from distance_calculations import calculate_distances_chunk\n",
    "import os\n",
    "\n",
    "\n",
    "data_df = pd.read_csv(\"data.csv\")\n",
    "\n",
    "total_cores = os.cpu_count()\n",
    "cores_to_use = math.ceil(total_cores * 0.75)\n",
    "num_cores = max(1, cores_to_use) \n",
    "WGS_84_GEO = \"EPSG:4326\"\n",
    "\n",
    "def calculate_distances_gdf_to_polygon_parallel(points_gdf, polygons_gdf, target_name, attribute_name=None):\n",
    "\n",
    "    num_chunks = num_cores * 4  \n",
    "    points_chunks = np.array_split(points_gdf, num_chunks)  \n",
    "    polygons_sindex = polygons_gdf.sindex\n",
    "    \n",
    "    with tqdm(total=len(points_chunks), desc=\"Processing chunks for \"+target_name) as pbar:\n",
    "        with concurrent.futures.ProcessPoolExecutor(max_workers=num_cores) as executor:\n",
    "            futures = [executor.submit(\n",
    "                calculate_distances_chunk,\n",
    "                chunk.geometry,\n",
    "                polygons_gdf,\n",
    "                polygons_sindex,\n",
    "                return_attribute=attribute_name,\n",
    "            ) for chunk in points_chunks]\n",
    "            \n",
    "            results = []\n",
    "            for future in concurrent.futures.as_completed(futures):\n",
    "                results.extend(future.result())\n",
    "                pbar.update(1)\n",
    "    \n",
    "    return results\n",
    "\n",
    "\n",
    "data_gdf = gpd.GeoDataFrame(data_df, geometry=gpd.points_from_xy(data_df.LONGITUDE, data_df.LATITUDE), crs=WGS_84_GEO)\n",
    "\n",
    "nature_gdf = gpd.read_file('Nature/Nature.shp')\n",
    "powerline_gdf = gpd.read_file('Powerline/Powerline.shp')\n",
    "camp_gdf = gpd.read_file('Campgrounds/Campgrounds.shp')\n",
    "population_gdf = gpd.read_file('Population/Population.shp')\n",
    "railroads_gdf = gpd.read_file('Railroads/Railroads.shp')\n",
    "schools_gdf = gpd.read_file('PublicSchools/PublicSchools.shp')\n",
    "mobile_home_parks_gdf = gpd.read_file('MobileHomeParks/MobileHomeParks.shp')\n",
    "\n",
    "nature_gdf = nature_gdf.to_crs(WGS_84_GEO)\n",
    "powerline_gdf = powerline_gdf.to_crs(WGS_84_GEO)\n",
    "camp_gdf = camp_gdf.to_crs(WGS_84_GEO)\n",
    "population_gdf = population_gdf.to_crs(WGS_84_GEO)\n",
    "railroads_gdf = railroads_gdf.to_crs(WGS_84_GEO)\n",
    "schools_gdf = schools_gdf.to_crs(WGS_84_GEO)\n",
    "mobile_home_parks_gdf = mobile_home_parks_gdf.to_crs(WGS_84_GEO)\n",
    "\n",
    "data_df['distance_to_nearest_nature_km'] = calculate_distances_gdf_to_polygon_parallel(data_gdf, nature_gdf, \"Nature\")\n",
    "data_df['distance_to_nearest_powerline_km'] = calculate_distances_gdf_to_polygon_parallel(data_gdf, powerline_gdf, \"Powerline\")\n",
    "data_df['distance_to_nearest_campground_km'] = calculate_distances_gdf_to_polygon_parallel(data_gdf, camp_gdf, \"Campground\")\n",
    "data_df['distance_to_nearest_railroad_km'] = calculate_distances_gdf_to_polygon_parallel(data_gdf, railroads_gdf, \"Railroad\")\n",
    "data_df['distance_to_nearest_school_km'] = calculate_distances_gdf_to_polygon_parallel(data_gdf, schools_gdf, \"School\")\n",
    "data_df['distance_to_nearest_mobile_home_park_km'] = calculate_distances_gdf_to_polygon_parallel(data_gdf, mobile_home_parks_gdf, \"MobileHomePark\")\n",
    "\n",
    "distance_from_population_and_class = calculate_distances_gdf_to_polygon_parallel(data_gdf, population_gdf, \"Population\", \"POP_CLASS\")\n",
    "data_df['distance_to_nearest_population'], data_df['nearest_population_class'] = zip(*distance_from_population_and_class)\n",
    "\n",
    "data_df.to_csv('data_with_distances.csv', index=False)"
   ],
   "metadata": {
    "collapsed": false,
    "ExecuteTime": {
     "end_time": "2024-03-04T10:15:57.996288Z",
     "start_time": "2024-03-04T10:15:18.312868Z"
    }
   },
   "execution_count": 2
  },
  {
   "cell_type": "markdown",
   "source": [
    "Now we will calculate the averages for each cause of fire for every feature we calculated above: "
   ],
   "metadata": {
    "collapsed": false
   }
  },
  {
   "cell_type": "code",
   "outputs": [
    {
     "name": "stdout",
     "output_type": "stream",
     "text": [
      "Calculating averages for Miscellaneous (108372 rows):\n",
      "  Mobile home park distance: 12.97 km\n",
      "\n",
      "Calculating averages for Arson (93304 rows):\n",
      "  Mobile home park distance: 11.76 km\n",
      "\n",
      "Calculating averages for Debris Burning (143074 rows):\n",
      "  Mobile home park distance: 10.33 km\n",
      "\n",
      "Calculating averages for Smoking (17571 rows):\n",
      "  Mobile home park distance: 11.97 km\n",
      "\n",
      "Calculating averages for Campfire (25367 rows):\n",
      "  Mobile home park distance: 21.21 km\n",
      "\n",
      "Calculating averages for Equipment Use (49423 rows):\n",
      "  Mobile home park distance: 11.94 km\n",
      "\n",
      "Calculating averages for Powerline (4733 rows):\n",
      "  Mobile home park distance: 15.29 km\n",
      "\n",
      "Calculating averages for Lightning (93057 rows):\n",
      "  Mobile home park distance: 35.10 km\n",
      "\n",
      "Calculating averages for Railroad (11053 rows):\n",
      "  Mobile home park distance: 8.73 km\n",
      "\n",
      "Calculating averages for Children (20354 rows):\n",
      "  Mobile home park distance: 10.53 km\n",
      "\n",
      "Calculating averages for Fireworks (3865 rows):\n",
      "  Mobile home park distance: 22.03 km\n",
      "\n",
      "Calculating averages for Structure (1252 rows):\n",
      "  Mobile home park distance: 19.93 km\n"
     ]
    }
   ],
   "source": [
    "import pandas as pd\n",
    "\n",
    "# Load the dataset\n",
    "df = pd.read_csv(\"data_with_distances.csv\")\n",
    "\n",
    "# Get unique values in the STAT_CAUSE_DESCR column\n",
    "unique_causes = df['STAT_CAUSE_DESCR'].unique()\n",
    "\n",
    "for cause in unique_causes:\n",
    "    # Filter the dataframe for the current cause\n",
    "    cause_df = df[df['STAT_CAUSE_DESCR'] == cause]\n",
    "    print(f\"Calculating averages for {cause} ({len(cause_df)} rows):\" )\n",
    "\n",
    "    avg_nature_distance = cause_df['distance_to_nearest_nature_km'].mean()\n",
    "    avg_powerline_distance = cause_df['distance_to_nearest_powerline_km'].mean()\n",
    "    avg_camp_distance = cause_df['distance_to_nearest_campground_km'].mean()\n",
    "    avg_population_distance = cause_df['distance_to_nearest_population'].mean()\n",
    "    avg_city_population_class = cause_df['nearest_population_class'].mean()\n",
    "    avg_distance_railroad= cause_df['distance_to_nearest_railroad_km'].mean()\n",
    "    avg_school_distance = cause_df['distance_to_nearest_school_km'].mean()\n",
    "    \n",
    "    avg_mobile_home_park_distance = cause_df['distance_to_nearest_mobile_home_park_km'].mean()\n",
    "\n",
    "\n",
    "    # Print the averages for the current cause\n",
    "    print(f\"Averages {cause}:\")\n",
    "    print(f\"  Nature distance: {avg_nature_distance:.2f} km\")\n",
    "    print(f\"  Campground distance: {avg_camp_distance:.2f} km\")\n",
    "    print(f\"  Nearest population distance: {avg_population_distance:.2f} km\")\n",
    "    print(f\"  Nearest population class: {avg_city_population_class:.2f}\")\n",
    "    print(f\"  Powerline distance: {avg_powerline_distance:.2f} km\")\n",
    "    print(f\"  School distance: {avg_school_distance:.2f} km\")\n",
    "    print(f\"  Mobile home park distance: {avg_mobile_home_park_distance:.2f} km\")\n",
    "\n",
    "    print()\n",
    "\n",
    "# print()\n",
    "# df = pd.read_csv(\"data_with_distances.csv\")\n",
    "# avg_city_distance_by_fire_size = df.groupby('FIRE_SIZE_CLASS')['distance_to_nearest_population'].mean()\n",
    "# \n",
    "# print(\"Average distance from the nearest population for each FIRE_SIZE_CLASS:\")\n",
    "# print(avg_city_distance_by_fire_size)"
   ],
   "metadata": {
    "collapsed": false,
    "ExecuteTime": {
     "end_time": "2024-03-04T10:16:35.161227Z",
     "start_time": "2024-03-04T10:16:31.784708Z"
    }
   },
   "execution_count": 4
  },
  {
   "cell_type": "markdown",
   "source": [
    "Next we will explore time related features. "
   ],
   "metadata": {
    "collapsed": false
   }
  }
 ],
 "metadata": {
  "kernelspec": {
   "display_name": "Python 3",
   "language": "python",
   "name": "python3"
  },
  "language_info": {
   "codemirror_mode": {
    "name": "ipython",
    "version": 2
   },
   "file_extension": ".py",
   "mimetype": "text/x-python",
   "name": "python",
   "nbconvert_exporter": "python",
   "pygments_lexer": "ipython2",
   "version": "2.7.6"
  }
 },
 "nbformat": 4,
 "nbformat_minor": 0
}
